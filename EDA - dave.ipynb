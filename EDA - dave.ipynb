{
 "cells": [
  {
   "cell_type": "code",
   "execution_count": 6,
   "metadata": {},
   "outputs": [],
   "source": [
    "import configProj1\n",
    "import mysql.connector\n",
    "import pandas as pd\n",
    "import matplotlib.pyplot as plt"
   ]
  },
  {
   "cell_type": "code",
   "execution_count": 2,
   "metadata": {},
   "outputs": [],
   "source": [
    "# connect to DB\n",
    "\n",
    "cnx = mysql.connector.connect(\n",
    "    host = configProj1.host,\n",
    "    user = configProj1.user,\n",
    "    passwd = configProj1.password,\n",
    "    database = 'Movies'\n",
    ")\n",
    "\n",
    "cursor = cnx.cursor()"
   ]
  },
  {
   "cell_type": "code",
   "execution_count": 3,
   "metadata": {},
   "outputs": [],
   "source": [
    "query2 = ('''\n",
    "        WITH a AS (\n",
    "            SELECT o.metascore, AVG(o.imdb_rating), d.director,\n",
    "              FLOOR((o.metascore)/10) AS metascore_buckets,\n",
    "              COUNT(*) AS bucket_count\n",
    "            FROM\n",
    "              Movies.OMDb_Directors d\n",
    "            JOIN\n",
    "              Movies.OMDb_Top_250_and_Low_100 o\n",
    "            ON\n",
    "              d.movie_name = o.movie_name\n",
    "            GROUP BY\n",
    "              metascore_buckets, d.director\n",
    "            ORDER BY\n",
    "              metascore_buckets DESC, bucket_count DESC)\n",
    "\n",
    "        SELECT *\n",
    "        FROM a\n",
    "        WHERE\n",
    "          metascore_buckets > 7\n",
    "        AND\n",
    "          bucket_count > 1;\n",
    "        ''')\n",
    "cursor.execute(query2)\n",
    "db2 = cursor.fetchall()"
   ]
  },
  {
   "cell_type": "code",
   "execution_count": 17,
   "metadata": {},
   "outputs": [],
   "source": [
    "query3 = ('''\n",
    "        WITH a AS (\n",
    "            SELECT \n",
    "              d.director,\n",
    "              FLOOR((o.metascore)/10) AS metascore_buckets,\n",
    "              COUNT(*) AS bucket_count\n",
    "            FROM\n",
    "              Movies.OMDb_Directors d\n",
    "            JOIN\n",
    "              Movies.OMDb_Top_250_and_Low_100 o\n",
    "            ON\n",
    "              d.movie_name = o.movie_name\n",
    "            GROUP BY\n",
    "              metascore_buckets, d.director\n",
    "            ORDER BY\n",
    "              metascore_buckets DESC, bucket_count DESC)\n",
    "\n",
    "        SELECT\n",
    "          director,\n",
    "          bucket_count\n",
    "        FROM a\n",
    "        WHERE\n",
    "          metascore_buckets > 7\n",
    "        AND\n",
    "          bucket_count > 1;\n",
    "        ''')\n",
    "cursor.execute(query3)\n",
    "db3 = cursor.fetchall()"
   ]
  },
  {
   "cell_type": "code",
   "execution_count": null,
   "metadata": {},
   "outputs": [],
   "source": []
  },
  {
   "cell_type": "code",
   "execution_count": 20,
   "metadata": {},
   "outputs": [
    {
     "data": {
      "text/html": [
       "<div>\n",
       "<style scoped>\n",
       "    .dataframe tbody tr th:only-of-type {\n",
       "        vertical-align: middle;\n",
       "    }\n",
       "\n",
       "    .dataframe tbody tr th {\n",
       "        vertical-align: top;\n",
       "    }\n",
       "\n",
       "    .dataframe thead th {\n",
       "        text-align: right;\n",
       "    }\n",
       "</style>\n",
       "<table border=\"1\" class=\"dataframe\">\n",
       "  <thead>\n",
       "    <tr style=\"text-align: right;\">\n",
       "      <th></th>\n",
       "      <th>Director</th>\n",
       "      <th>Freq</th>\n",
       "    </tr>\n",
       "  </thead>\n",
       "  <tbody>\n",
       "    <tr>\n",
       "      <th>0</th>\n",
       "      <td>Alfred Hitchcock</td>\n",
       "      <td>2</td>\n",
       "    </tr>\n",
       "    <tr>\n",
       "      <th>1</th>\n",
       "      <td>Francis Ford Coppola</td>\n",
       "      <td>3</td>\n",
       "    </tr>\n",
       "    <tr>\n",
       "      <th>2</th>\n",
       "      <td>Billy Wilder</td>\n",
       "      <td>3</td>\n",
       "    </tr>\n",
       "    <tr>\n",
       "      <th>3</th>\n",
       "      <td>Akira Kurosawa</td>\n",
       "      <td>3</td>\n",
       "    </tr>\n",
       "    <tr>\n",
       "      <th>4</th>\n",
       "      <td>Steven Spielberg</td>\n",
       "      <td>2</td>\n",
       "    </tr>\n",
       "    <tr>\n",
       "      <th>5</th>\n",
       "      <td>Peter Jackson</td>\n",
       "      <td>2</td>\n",
       "    </tr>\n",
       "    <tr>\n",
       "      <th>6</th>\n",
       "      <td>Alfred Hitchcock</td>\n",
       "      <td>2</td>\n",
       "    </tr>\n",
       "    <tr>\n",
       "      <th>7</th>\n",
       "      <td>Andrew Stanton</td>\n",
       "      <td>2</td>\n",
       "    </tr>\n",
       "    <tr>\n",
       "      <th>8</th>\n",
       "      <td>Charles Chaplin</td>\n",
       "      <td>2</td>\n",
       "    </tr>\n",
       "    <tr>\n",
       "      <th>9</th>\n",
       "      <td>Stanley Kubrick</td>\n",
       "      <td>3</td>\n",
       "    </tr>\n",
       "    <tr>\n",
       "      <th>10</th>\n",
       "      <td>Martin Scorsese</td>\n",
       "      <td>3</td>\n",
       "    </tr>\n",
       "    <tr>\n",
       "      <th>11</th>\n",
       "      <td>Hayao Miyazaki</td>\n",
       "      <td>3</td>\n",
       "    </tr>\n",
       "    <tr>\n",
       "      <th>12</th>\n",
       "      <td>James Cameron</td>\n",
       "      <td>2</td>\n",
       "    </tr>\n",
       "    <tr>\n",
       "      <th>13</th>\n",
       "      <td>Clint Eastwood</td>\n",
       "      <td>2</td>\n",
       "    </tr>\n",
       "    <tr>\n",
       "      <th>14</th>\n",
       "      <td>Frank Capra</td>\n",
       "      <td>2</td>\n",
       "    </tr>\n",
       "    <tr>\n",
       "      <th>15</th>\n",
       "      <td>Milos Forman</td>\n",
       "      <td>2</td>\n",
       "    </tr>\n",
       "    <tr>\n",
       "      <th>16</th>\n",
       "      <td>Robert Zemeckis</td>\n",
       "      <td>2</td>\n",
       "    </tr>\n",
       "    <tr>\n",
       "      <th>17</th>\n",
       "      <td>Ridley Scott</td>\n",
       "      <td>2</td>\n",
       "    </tr>\n",
       "    <tr>\n",
       "      <th>18</th>\n",
       "      <td>Christopher Nolan</td>\n",
       "      <td>2</td>\n",
       "    </tr>\n",
       "  </tbody>\n",
       "</table>\n",
       "</div>"
      ],
      "text/plain": [
       "                Director  Freq\n",
       "0       Alfred Hitchcock     2\n",
       "1   Francis Ford Coppola     3\n",
       "2           Billy Wilder     3\n",
       "3         Akira Kurosawa     3\n",
       "4       Steven Spielberg     2\n",
       "5          Peter Jackson     2\n",
       "6       Alfred Hitchcock     2\n",
       "7         Andrew Stanton     2\n",
       "8        Charles Chaplin     2\n",
       "9        Stanley Kubrick     3\n",
       "10       Martin Scorsese     3\n",
       "11        Hayao Miyazaki     3\n",
       "12         James Cameron     2\n",
       "13        Clint Eastwood     2\n",
       "14           Frank Capra     2\n",
       "15          Milos Forman     2\n",
       "16       Robert Zemeckis     2\n",
       "17          Ridley Scott     2\n",
       "18     Christopher Nolan     2"
      ]
     },
     "execution_count": 20,
     "metadata": {},
     "output_type": "execute_result"
    }
   ],
   "source": [
    "df3 = pd.DataFrame(db3)\n",
    "df3.columns = ['Director', 'Freq']\n",
    "df3"
   ]
  },
  {
   "cell_type": "code",
   "execution_count": 42,
   "metadata": {},
   "outputs": [
    {
     "data": {
      "image/png": "[encoded data removed]",
      "text/plain": [
       "<Figure size 576x576 with 1 Axes>"
      ]
     },
     "metadata": {
      "needs_background": "light"
     },
     "output_type": "display_data"
    }
   ],
   "source": [
    "ax = df3.plot(x='Director', y='Freq', kind='bar', title='Metacritic GREAT movies by Director', figsize=(8,8))\n",
    "ax.set_ylabel('Number of movies with Metascore over 80')\n",
    "ax.set_xticklabels(df3['Director'], rotation=45, ha='right');"
   ]
  },
  {
   "cell_type": "code",
   "execution_count": null,
   "metadata": {},
   "outputs": [],
   "source": [
    "query = ('''\n",
    "        SELECT o.movie_name, o.metascore, o.imdb_rating, d.director\n",
    "        FROM Movies.OMDb_Directors d\n",
    "        JOIN Movies.OMDb_Top_250_and_Low_100 o\n",
    "        ON d.movie_name = o.movie_name\n",
    "        ORDER BY o.metascore DESC;\n",
    "        ''')\n",
    "cursor.execute(query)\n",
    "db = cursor.fetchall()"
   ]
  },
  {
   "cell_type": "code",
   "execution_count": null,
   "metadata": {},
   "outputs": [],
   "source": [
    "df = pd.DataFrame(db)\n",
    "df.columns = ['Title', 'Metascore', 'IMDb User Rating', 'Director']\n",
    "df.head()"
   ]
  },
  {
   "cell_type": "code",
   "execution_count": null,
   "metadata": {},
   "outputs": [],
   "source": [
    "director_df = df.groupby('Director')['Title'].count()"
   ]
  },
  {
   "cell_type": "code",
   "execution_count": null,
   "metadata": {},
   "outputs": [],
   "source": []
  },
  {
   "cell_type": "code",
   "execution_count": null,
   "metadata": {},
   "outputs": [],
   "source": []
  },
  {
   "cell_type": "code",
   "execution_count": null,
   "metadata": {},
   "outputs": [],
   "source": [
    "cursor.close()\n",
    "cnx.close()"
   ]
  },
  {
   "cell_type": "markdown",
   "metadata": {},
   "source": [
    "### Using .split( ) and .strip( ) methods to separate comma-separated string elements, and then eliminate white space"
   ]
  },
  {
   "cell_type": "code",
   "execution_count": null,
   "metadata": {},
   "outputs": [],
   "source": [
    "x = 'Martin Scorcese, Guillermo del Toro, Tim Robbins, Christopher Nolan '"
   ]
  },
  {
   "cell_type": "code",
   "execution_count": null,
   "metadata": {},
   "outputs": [],
   "source": [
    "y = x.split(',')\n",
    "y"
   ]
  },
  {
   "cell_type": "code",
   "execution_count": null,
   "metadata": {},
   "outputs": [],
   "source": [
    "list((y[i].strip() for i in range(0,len(y))))"
   ]
  },
  {
   "cell_type": "code",
   "execution_count": null,
   "metadata": {},
   "outputs": [],
   "source": [
    "len(y)"
   ]
  },
  {
   "cell_type": "code",
   "execution_count": null,
   "metadata": {},
   "outputs": [],
   "source": []
  }
 ],
 "metadata": {
  "kernelspec": {
   "display_name": "Python 3",
   "language": "python",
   "name": "python3"
  },
  "language_info": {
   "codemirror_mode": {
    "name": "ipython",
    "version": 3
   },
   "file_extension": ".py",
   "mimetype": "text/x-python",
   "name": "python",
   "nbconvert_exporter": "python",
   "pygments_lexer": "ipython3",
   "version": "3.7.3"
  }
 },
 "nbformat": 4,
 "nbformat_minor": 2
}
