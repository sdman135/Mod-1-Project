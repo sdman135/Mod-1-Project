{
 "cells": [
  {
   "cell_type": "markdown",
   "metadata": {},
   "source": [
    "## PROJECT 1"
   ]
  },
  {
   "cell_type": "markdown",
   "metadata": {},
   "source": [
    "#### Dave Bletsch"
   ]
  },
  {
   "cell_type": "markdown",
   "metadata": {},
   "source": [
    "#### Metacritic webscrape"
   ]
  },
  {
   "cell_type": "markdown",
   "metadata": {},
   "source": [
    "### Import packages for webscraping"
   ]
  },
  {
   "cell_type": "code",
   "execution_count": 1,
   "metadata": {},
   "outputs": [],
   "source": [
    "# to help bypass 403 and 429 error codes\n",
    "from urllib.request import Request, urlopen\n",
    "\n",
    "# for scraping\n",
    "from bs4 import BeautifulSoup as BS\n",
    "\n",
    "# formatting date \n",
    "from datetime import datetime\n",
    "\n",
    "# for pausing in between changing urls\n",
    "import time"
   ]
  },
  {
   "cell_type": "code",
   "execution_count": 12,
   "metadata": {},
   "outputs": [
    {
     "data": {
      "text/plain": [
       "[2019, 2018, 2017, 2016, 2015, 2014, 2013, 2012, 2011, 2010]"
      ]
     },
     "execution_count": 12,
     "metadata": {},
     "output_type": "execute_result"
    }
   ],
   "source": [
    "# list of years to insert into search URL\n",
    "years = list(range(2019, 2009, -1))\n",
    "years"
   ]
  },
  {
   "cell_type": "markdown",
   "metadata": {},
   "source": [
    "### Scrape Metacritic site for top 100 movies each of the past 10 years"
   ]
  },
  {
   "cell_type": "code",
   "execution_count": 13,
   "metadata": {
    "scrolled": true
   },
   "outputs": [],
   "source": [
    "########## ########## ##########\n",
    "\n",
    "# works after running a second time. why?\n",
    "# should i write a script to try twice?\n",
    "\n",
    "########## ########## ##########\n",
    "\n",
    "all_movies = []\n",
    "for i in years:\n",
    "    url = 'https://www.metacritic.com/browse/movies/score/metascore/year/filtered?year_selected={}&sort=desc'.format(i)\n",
    "\n",
    "    # bypass errors using Request/urlopen changing user-agent\n",
    "    headers = {'User-Agent': 'Firefox'}\n",
    "    req = Request(url, headers=headers)\n",
    "\n",
    "    page = urlopen(req).read()\n",
    "\n",
    "    # beautifulsoup object \"soup\" of webpage\n",
    "    soup = BS(page, 'html.parser')\n",
    "    movies = soup.find_all('td', class_='clamp-summary-wrap')\n",
    "\n",
    "    # append list of tuples with results of each year's iteration\n",
    "    all_movies += parse_results(movies)\n",
    "    time.sleep(12) # don't over-ping metacritic site\n"
   ]
  },
  {
   "cell_type": "code",
   "execution_count": 1,
   "metadata": {},
   "outputs": [],
   "source": [
    "# movie_tuples"
   ]
  },
  {
   "cell_type": "code",
   "execution_count": 2,
   "metadata": {},
   "outputs": [],
   "source": [
    "# all_movies"
   ]
  },
  {
   "cell_type": "markdown",
   "metadata": {},
   "source": [
    "### Clean/parse data in order to make it insertable into DB"
   ]
  },
  {
   "cell_type": "code",
   "execution_count": 4,
   "metadata": {},
   "outputs": [],
   "source": [
    "# loop through list of 100 movies and pull relevant data\n",
    "\n",
    "def parse_results(movies):\n",
    "    \n",
    "    movie_tuples = []\n",
    "\n",
    "    for movie in movies:\n",
    "        \n",
    "        movie_title = movie.find('h3').text\n",
    "\n",
    "        movie_date = movie.find('div', class_='clamp-details').span.text\n",
    "        format_date = datetime.strptime(movie_date, '%B %d, %Y') # convert to datetime\n",
    "\n",
    "        movie_year = movie.find('div', class_='clamp-details').span.text[-4:]\n",
    "        \n",
    "        # \"perfect metascore\" has a different class name than any other positive score\n",
    "        try:\n",
    "            movie_metascore = movie.find('div', class_='metascore_w large movie positive').text\n",
    "        except:\n",
    "            movie_metascore = 100\n",
    "\n",
    "        # add details to a tuple to add to MYSQL db\n",
    "        movie_tuple = (movie_title, format_date, movie_year, movie_metascore)\n",
    "        movie_tuples.append(movie_tuple)\n",
    "    \n",
    "    return movie_tuples\n",
    "\n",
    "# movie_tuples\n",
    "# movie_date\n",
    "# datetime_obj\n",
    "# format_date"
   ]
  },
  {
   "cell_type": "code",
   "execution_count": 14,
   "metadata": {},
   "outputs": [],
   "source": [
    "########## ########## ##########\n",
    "\n",
    "# Attempt at reworking date format for insertion into DB\n",
    "\n",
    "########## ########## ##########\n",
    "\n",
    "# datetime_obj = datetime.strptime(movie_date, '%B %d, %Y')\n",
    "# foo = movie_tuples[0][1]\n",
    "# x = datetime.datetime.strptime(foo, '%B %d, %Y')\n",
    "# x\n",
    "# datetime_obj\n",
    "# movie_dates[0]"
   ]
  },
  {
   "cell_type": "code",
   "execution_count": null,
   "metadata": {},
   "outputs": [],
   "source": []
  },
  {
   "cell_type": "code",
   "execution_count": 1,
   "metadata": {},
   "outputs": [],
   "source": [
    "# print(movie_tuples[0][1])"
   ]
  },
  {
   "cell_type": "code",
   "execution_count": 3,
   "metadata": {},
   "outputs": [],
   "source": [
    "# Import packages to check data insertion into DB and DB login info file\n",
    "\n",
    "import configProj1\n",
    "import mysql.connector\n",
    "from mysql.connector import errorcode\n",
    "import pandas as pd"
   ]
  },
  {
   "cell_type": "code",
   "execution_count": 4,
   "metadata": {},
   "outputs": [],
   "source": [
    "## connecting to the database using 'connect()' method\n",
    "\n",
    "cnx = mysql.connector.connect(\n",
    "    host = configProj1.host,\n",
    "    user = configProj1.user,\n",
    "    passwd = configProj1.password,\n",
    "    database = 'Movies'\n",
    ")\n",
    "\n",
    "cursor = cnx.cursor()"
   ]
  },
  {
   "cell_type": "markdown",
   "metadata": {},
   "source": [
    "### Create tables in MYSQL DB. Used only once."
   ]
  },
  {
   "cell_type": "code",
   "execution_count": null,
   "metadata": {},
   "outputs": [],
   "source": [
    "# create table in MYSQL\n",
    "\n",
    "# TABLES = {}\n",
    "# TABLES['Metascore'] = \"\"\"\n",
    "#                 CREATE TABLE Metascore \n",
    "#                 (\n",
    "#                     title varchar(50) NOT NULL UNIQUE,\n",
    "#                     release_date date NOT NULL,\n",
    "#                     metascore int(10) NOT NULL,\n",
    "#                     PRIMARY KEY (title)\n",
    "#                 );\n",
    "#                 \"\"\""
   ]
  },
  {
   "cell_type": "code",
   "execution_count": null,
   "metadata": {},
   "outputs": [],
   "source": [
    "# check if table is created using errorcode library\n",
    "\n",
    "# for table_name in TABLES:\n",
    "#     table_description = TABLES[table_name]\n",
    "#     try:\n",
    "#         print(\"Creating table {}: \".format(table_name), end='')\n",
    "#         cursor.execute(table_description)\n",
    "#     except mysql.connector.Error as err:\n",
    "#         if err.errno == errorcode.ER_TABLE_EXISTS_ERROR:\n",
    "#             print(\"already exists.\")\n",
    "#         else:\n",
    "#             print(err.msg)\n",
    "#     else:\n",
    "#         print(\"OK\")"
   ]
  },
  {
   "cell_type": "code",
   "execution_count": null,
   "metadata": {},
   "outputs": [],
   "source": [
    "# add column \"release year\"\n",
    "# cursor.execute(\"\"\"\n",
    "#                 ALTER TABLE Metascore\n",
    "#                 ADD COLUMN release_year int(7) NOT NULL;\n",
    "#                 \"\"\")\n",
    "\n",
    "# change table name to METACRITIC\n",
    "# cursor.execute(\"\"\"\n",
    "#                 ALTER TABLE Metascore\n",
    "#                 RENAME TO Metacritic;\n",
    "#                 \"\"\")\n",
    "# cursor.execute(\"\"\"\n",
    "#                 DROP TABLE Metascore;\n",
    "#                 \"\"\")\n"
   ]
  },
  {
   "cell_type": "markdown",
   "metadata": {},
   "source": [
    "### Insert data into DB\n"
   ]
  },
  {
   "cell_type": "code",
   "execution_count": 11,
   "metadata": {},
   "outputs": [
    {
     "name": "stdout",
     "output_type": "stream",
     "text": [
      "1062 (23000): Duplicate entry 'Western' for key 'title'\n",
      "('Western', datetime.datetime(2015, 9, 25, 0, 0), '2015', '89')\n",
      "1062 (23000): Duplicate entry 'Leviathan' for key 'title'\n",
      "('Leviathan', datetime.datetime(2013, 3, 1, 0, 0), '2013', '81')\n",
      "1062 (23000): Duplicate entry 'Elena' for key 'title'\n",
      "('Elena', datetime.datetime(2012, 5, 18, 0, 0), '2012', '87')\n",
      "1062 (23000): Duplicate entry 'Loveless' for key 'title'\n",
      "('Loveless', datetime.datetime(2011, 2, 18, 0, 0), '2011', '75')\n",
      "1062 (23000): Duplicate entry 'The Square' for key 'title'\n",
      "('The Square', datetime.datetime(2010, 4, 9, 0, 0), '2010', '75')\n"
     ]
    }
   ],
   "source": [
    "# loop over all elements in output list of 1000 tuples and insert into db\n",
    "for i in range(0,len(all_movies)-1):\n",
    "    try:\n",
    "        stmt = \"INSERT INTO Metacritic (title, release_date, release_year, metascore) VALUES (%s,%s,%s,%s)\"\n",
    "        cursor.execute(stmt, all_movies[i])\n",
    "    \n",
    "    # 5/1000 movies did not make the db because of the title being a duplicate\n",
    "    except mysql.connector.Error as err:\n",
    "        print(err)\n",
    "        print(all_movies[i])\n",
    "\n",
    "# DON'T FORGET TO COMMIT\n",
    "cnx.commit()"
   ]
  },
  {
   "cell_type": "code",
   "execution_count": 11,
   "metadata": {},
   "outputs": [],
   "source": [
    "# close cursor, close connection\n",
    "cursor.close()\n",
    "cnx.close()"
   ]
  },
  {
   "cell_type": "code",
   "execution_count": null,
   "metadata": {},
   "outputs": [],
   "source": []
  }
 ],
 "metadata": {
  "kernelspec": {
   "display_name": "Python 3",
   "language": "python",
   "name": "python3"
  },
  "language_info": {
   "codemirror_mode": {
    "name": "ipython",
    "version": 3
   },
   "file_extension": ".py",
   "mimetype": "text/x-python",
   "name": "python",
   "nbconvert_exporter": "python",
   "pygments_lexer": "ipython3",
   "version": "3.7.3"
  }
 },
 "nbformat": 4,
 "nbformat_minor": 2
}
