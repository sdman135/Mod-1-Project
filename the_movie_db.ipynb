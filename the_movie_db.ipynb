{
 "cells": [
  {
   "cell_type": "code",
   "execution_count": 2,
   "metadata": {},
   "outputs": [],
   "source": [
    "import config\n",
    "import mysql.connector \n",
    "import requests\n",
    "import json\n",
    "from bs4 import BeautifulSoup\n",
    "from mysql.connector import errorcode\n",
    "import time\n",
    "\n",
    "cnx = mysql.connector .connect(\n",
    "    host = config.host,\n",
    "    user = config.user,\n",
    "    passwd = config.password,\n",
    "    database = 'Movies'\n",
    ")\n",
    "cursor = cnx.cursor()"
   ]
  },
  {
   "cell_type": "code",
   "execution_count": 2,
   "metadata": {},
   "outputs": [],
   "source": [
    "# db_name = 'Movies'\n",
    "\n",
    "# def create_database(cursor, database):\n",
    "#     try:\n",
    "#         cursor.execute(\n",
    "#             \"CREATE DATABASE {} DEFAULT CHARACTER SET 'utf8'\".format(database))\n",
    "#     except mysql.connector.Error as err:\n",
    "#         print(\"Failed creating database: {}\".format(err))\n",
    "#         exit(1)\n",
    "        \n",
    "#     #above is python code that is going to connect to SQL queries w/ cursor.execute\n",
    "#     #cursor knows to take SQL query and send it to server to run code\n",
    "#     #try & except is error handling within python\n",
    "#     #format takes in database and tries to run it\n",
    "#     #if failed, except will tell you error and why it failed\n",
    "#     #above is a function to create a database\n",
    "\n",
    "# try:\n",
    "#     cursor.execute(\"USE {}\".format(db_name))\n",
    "# except mysql.connector.Error as err:\n",
    "#     print(\"Database {} does not exists.\".format(db_name))\n",
    "#     if err.errno == errorcode.ER_BAD_DB_ERROR:\n",
    "#         create_database(cursor, db_name)\n",
    "#         print(\"Database {} created successfully.\".format(db_name))\n",
    "#         cnx.database = db_name\n",
    "#     else:\n",
    "#         print(err)\n",
    "#         exit(1)"
   ]
  },
  {
   "cell_type": "code",
   "execution_count": 3,
   "metadata": {},
   "outputs": [
    {
     "name": "stdout",
     "output_type": "stream",
     "text": [
      "Creating table The_Movie_Db_Genres: already exists.\n"
     ]
    }
   ],
   "source": [
    "cursor = cnx.cursor()\n",
    "# TABLES = {} #use dictionary to save diff create statements for each table\n",
    "# TABLES['The_Movie_Db'] = (\n",
    "#     \"  CREATE TABLE The_Movie_Db (\"\n",
    "#     \"  id int(11) NOT NULL AUTO_INCREMENT primary key,\"\n",
    "#     \"  movie_name varchar(200) not null,\"\n",
    "#     \"  budget int,\"\n",
    "#     \"  revenue int,\"\n",
    "#     \"  rating float,\"\n",
    "#     \"  release_date date\"    \n",
    "# \") ENGINE=InnoDB\")\n",
    "\n",
    "\n",
    "# TABLES = {} #use dictionary to save diff create statements for each table\n",
    "# TABLES['The_Movie_Db_Genres'] = (\n",
    "#     \"  CREATE TABLE The_Movie_Db_Genres (\"\n",
    "#     \"  id int(11) NOT NULL AUTO_INCREMENT primary key,\"\n",
    "#     \"  movie_name varchar(200) not null,\"\n",
    "#     \"  genres varchar(200)\"\n",
    "# \") ENGINE=InnoDB\")\n",
    "\n",
    "\n",
    "# for table_name in TABLES:\n",
    "#     table_description = TABLES[table_name]\n",
    "#     try:\n",
    "#         print(\"Creating table {}: \".format(table_name), end='')\n",
    "#         cursor.execute(table_description)\n",
    "#     except mysql.connector.Error as err:\n",
    "#         if err.errno == errorcode.ER_TABLE_EXISTS_ERROR:\n",
    "#             print(\"already exists.\")\n",
    "#         else:\n",
    "#             print(err.msg)\n",
    "#     else:\n",
    "#         print(\"OK\")\n"
   ]
  },
  {
   "cell_type": "markdown",
   "metadata": {},
   "source": [
    "# get ids from the movie db >>>>scripted "
   ]
  },
  {
   "cell_type": "code",
   "execution_count": 37,
   "metadata": {},
   "outputs": [],
   "source": [
    "list_of_id = []\n",
    "\n",
    "for i in range(1,11):\n",
    "    url = \"https://www.themoviedb.org/movie?page={}\".format(i)\n",
    "#     print(url)\n",
    "    page = requests.get(url)\n",
    "\n",
    "    soup = BeautifulSoup(page.content, 'html.parser')\n",
    "\n",
    "    movies = soup.find(class_=\"results flex results_poster_card\")\n",
    "\n",
    "    movie_detail = movies.find_all(class_=\"flex\")\n",
    "\n",
    "    for i in range(len(movie_detail)):\n",
    "        id_string = movie_detail[i].find('a')\n",
    "        id_int = int(id_string['href'].split('/')[2])\n",
    "        list_of_id.append(id_int)\n",
    "\n"
   ]
  },
  {
   "cell_type": "code",
   "execution_count": 39,
   "metadata": {},
   "outputs": [
    {
     "data": {
      "text/plain": [
       "200"
      ]
     },
     "execution_count": 39,
     "metadata": {},
     "output_type": "execute_result"
    }
   ],
   "source": [
    "len(list_of_id)"
   ]
  },
  {
   "cell_type": "markdown",
   "metadata": {},
   "source": [
    "# call the movie db to get movies info >>>> with api key"
   ]
  },
  {
   "cell_type": "code",
   "execution_count": 41,
   "metadata": {},
   "outputs": [],
   "source": [
    "api_key = '2f848bb1906d7277820e69e3fa9158a5'\n",
    "# movies_lists = []\n",
    "for i in list_of_id:\n",
    "    url = 'https://api.themoviedb.org/3/movie/{}?api_key=2f848bb1906d7277820e69e3fa9158a5'.format(i)\n",
    "#     print(url)\n",
    "    response = requests.get(url)\n",
    "\n",
    "    data = response.json()\n",
    "    keys = ['title', 'budget', 'revenue' ,'vote_average','release_date']\n",
    "    parsed_results = [{key: (data[key] if key in data else 'Null') for key in keys}]\n",
    "\n",
    "    \n",
    "    for movie in parsed_results:\n",
    "    \n",
    "        movie_tuple = (movie['title'],movie['budget'], movie['revenue']\n",
    "                       , movie['vote_average'], movie['release_date'])\n",
    "#         movies_lists.append(movie_tuple)\n",
    "       \n",
    "        insert_stmt = \"INSERT INTO The_Movie_Db ( movie_name, budget, revenue, rating, release_date) VALUES (%s, %s, %s, %s, %s)\"\n",
    "        cursor.execute(insert_stmt, movie_tuple)\n",
    "        cnx.commit()\n",
    "        time.sleep(1)\n"
   ]
  },
  {
   "cell_type": "code",
   "execution_count": null,
   "metadata": {},
   "outputs": [],
   "source": []
  },
  {
   "cell_type": "code",
   "execution_count": null,
   "metadata": {},
   "outputs": [],
   "source": []
  }
 ],
 "metadata": {
  "kernelspec": {
   "display_name": "Python 3",
   "language": "python",
   "name": "python3"
  },
  "language_info": {
   "codemirror_mode": {
    "name": "ipython",
    "version": 3
   },
   "file_extension": ".py",
   "mimetype": "text/x-python",
   "name": "python",
   "nbconvert_exporter": "python",
   "pygments_lexer": "ipython3",
   "version": "3.7.3"
  }
 },
 "nbformat": 4,
 "nbformat_minor": 2
}
